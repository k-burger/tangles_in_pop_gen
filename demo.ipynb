{
 "cells": [
  {
   "cell_type": "markdown",
   "source": [
    "# Tadmixture demo for the 1000 Genomes project\n",
    "\n",
    "Simple script for the exemplary application of Tadmixture to the 1000 Genomes \n",
    "project, phase 3. The SNPs are reduced to SNPs in Kidd's AIMs panel, AMR populations \n",
    "are excluded resulting in 2157 sampled individuals.\n",
    "\n",
    "    1. Set parameters\n",
    "    2. Load data\n",
    "    3. Preprocess data\n",
    "    4. Constructing cuts\n",
    "    5. Computing costs\n",
    "    6. Constructing the tangles tree: For each cut compute the tangles by expanding on \n",
    "        the previous ones if it is consistent. If its not possible stop\n",
    "    7. Read out typical genome \n",
    "    8. Compute characterizing cuts\n",
    "    9. Postprocess in soft clustering and plot\n"
   ],
   "metadata": {
    "collapsed": false
   },
   "id": "dc76128bd138c73c"
  },
  {
   "cell_type": "code",
   "outputs": [],
   "source": [
    "import pickle\n",
    "import sys\n",
    "from functools import partial\n",
    "import numpy as np\n",
    "import pandas as pd\n",
    "import compute_kNN\n",
    "import plot_soft_clustering\n",
    "import read_vcf\n",
    "import reliability_factor\n",
    "from src import cost_functions, data_types\n",
    "from src import utils\n",
    "from src.tree_tangles import (ContractedTangleTree, tangle_computation, \n",
    "                              compute_soft_predictions_children_popgen)\n",
    "from src.utils import merge_doubles\n",
    "sys.path.append('..')"
   ],
   "metadata": {
    "collapsed": false,
    "ExecuteTime": {
     "end_time": "2024-02-26T16:34:41.594606898Z",
     "start_time": "2024-02-26T16:34:41.420620146Z"
    }
   },
   "id": "1ffdbdabb225fed",
   "execution_count": 48
  },
  {
   "cell_type": "markdown",
   "source": [
    "### Set parameters."
   ],
   "metadata": {
    "collapsed": false
   },
   "id": "4198610cae4222c6"
  },
  {
   "cell_type": "code",
   "outputs": [],
   "source": [
    "n = 2157                    # number of individuals\n",
    "agreement = 225             # agreement parameter\n",
    "cost_fct = \"FST_kNN\"   # choice of cost function\n",
    "k = 40                      # k for k-nearest neighbours\n",
    "pruning = 0                 # pruning parameter"
   ],
   "metadata": {
    "collapsed": false,
    "ExecuteTime": {
     "end_time": "2024-02-26T16:34:41.608579924Z",
     "start_time": "2024-02-26T16:34:41.585912467Z"
    }
   },
   "id": "3822ebb37a78c491",
   "execution_count": 49
  },
  {
   "cell_type": "markdown",
   "source": [
    "### Load data."
   ],
   "metadata": {
    "collapsed": false
   },
   "id": "f0f22f9a125a08d"
  },
  {
   "cell_type": "code",
   "outputs": [],
   "source": [
    "# load data from 1000 Genomes project (phase 3) reduced to SNPs in Kidd's AIMs panel,\n",
    "# AMR populations excluded:\n",
    "aims_data = read_vcf.ReadVCF(n, 'AIMs', 'AIMs_kidd_no_AMR', 'data/vcf/')\n",
    "aims_data.read_vcf()\n",
    "\n",
    "# get genotype matrix and embed data into tangles framework:\n",
    "xs = np.transpose(aims_data.G[0])   # diploid genotype matrix\n",
    "data = data_types.Data(xs=xs)       # embed aims_data in tangles framework"
   ],
   "metadata": {
    "collapsed": false,
    "ExecuteTime": {
     "end_time": "2024-02-26T16:34:42.017667136Z",
     "start_time": "2024-02-26T16:34:41.612687197Z"
    }
   },
   "id": "ed8b0dba49d8028b",
   "execution_count": 50
  },
  {
   "cell_type": "markdown",
   "source": [
    "### Preprocess data.\n",
    "First, compute a set of bipartitions or cuts from the data:"
   ],
   "metadata": {
    "collapsed": false
   },
   "id": "c65afecdfd5136d7"
  },
  {
   "cell_type": "code",
   "outputs": [
    {
     "name": "stdout",
     "output_type": "stream",
     "text": [
      "Generating set of bipartitions.\n",
      "Found 55 bipartitions.\n"
     ]
    }
   ],
   "source": [
    "print(\"Generating set of bipartitions.\", flush=True)\n",
    "bipartitions = data_types.Cuts(values=(data.xs > 0).T,\n",
    "                                names=np.array(list(range(0, data.xs.shape[1]))))\n",
    "print(\"Found {} bipartitions.\".format(len(bipartitions.values)), flush=True)"
   ],
   "metadata": {
    "collapsed": false,
    "ExecuteTime": {
     "end_time": "2024-02-26T16:34:42.034913730Z",
     "start_time": "2024-02-26T16:34:41.989435150Z"
    }
   },
   "id": "528192e09d03f286",
   "execution_count": 51
  },
  {
   "cell_type": "markdown",
   "source": [
    "Secondly, since the individuals in aims_data are sorted according to their \n",
    "population membership, the vector of population memberships must be \n",
    "sorted in the same way:"
   ],
   "metadata": {
    "collapsed": false
   },
   "id": "aeb6cadc7bf6fc50"
  },
  {
   "cell_type": "code",
   "outputs": [
    {
     "name": "stdout",
     "output_type": "stream",
     "text": [
      "population membership of individuals after resorting (AMR populations excluded): ['YRI' 'YRI' 'YRI' ... 'KHV' 'KHV' 'KHV']\n"
     ]
    }
   ],
   "source": [
    "# get population membership for each individual (individuals in vcf file are also\n",
    "# sorted by populations, i.e. same sorting):\n",
    "panel_file = ('data/vcf/integrated_call_samples_v3.20130502.ALL.panel')\n",
    "panel_df = pd.read_csv(panel_file, delimiter='\\t')\n",
    "sample_pop = panel_df['pop']\n",
    "pop_array = np.array(sample_pop)\n",
    "custom_order = {'YRI': 0, 'LWK': 1, 'GWD': 2, 'MSL': 3, 'ESN': 4, 'ASW': 5,\n",
    "                'ACB': 6, 'FIN': 7, 'CEU': 8, 'GBR': 9, 'TSI': 10, 'IBS': 11,\n",
    "                'GIH': 12, 'PJL': 13, 'BEB': 14, 'STU': 15, 'ITU': 16, 'CHB': 17,\n",
    "                'JPT': 18, 'CHS': 19, 'CDX': 20, 'KHV': 21, 'MXL': 22, 'PUR': 23,\n",
    "                'CLM': 24, 'PEL': 25}\n",
    "custom_sort_criteria = np.array([custom_order[pop] for pop in pop_array])\n",
    "sorted_indices = np.argsort(custom_sort_criteria)\n",
    "pop_membership = pop_array[sorted_indices]\n",
    "pop_membership = pop_membership[:2157]  # exlcude AMR pops from pop_membership array\n",
    "print(\"population membership of individuals after resorting (AMR populations excluded)\"\n",
    "      \":\", pop_membership, flush=True)"
   ],
   "metadata": {
    "collapsed": false,
    "ExecuteTime": {
     "end_time": "2024-02-26T16:34:42.036011088Z",
     "start_time": "2024-02-26T16:34:42.002374304Z"
    }
   },
   "id": "fd8c9581a28cc313",
   "execution_count": 52
  },
  {
   "cell_type": "markdown",
   "source": [
    "### Compute costs.\n",
    "The cost function uses the k-nearest neighbours matrix, which has to be pre-computed:"
   ],
   "metadata": {
    "collapsed": false
   },
   "id": "ac51452f89c8e054"
  },
  {
   "cell_type": "code",
   "outputs": [],
   "source": [
    "kNN = compute_kNN.KNearestNeighbours(xs, k, filename=\"kNN_AIMs_panel\",\n",
    "                                             filepath=\"data/saved_kNN/\")\n",
    "kNN.compute_kNN()\n",
    "# pickle kNN-Matrix for cost function to load:\n",
    "with open(\"data/saved_kNN/kNN\", 'wb') as outp:\n",
    "    pickle.dump(kNN, outp, pickle.HIGHEST_PROTOCOL)"
   ],
   "metadata": {
    "collapsed": false,
    "ExecuteTime": {
     "end_time": "2024-02-26T16:34:42.670168669Z",
     "start_time": "2024-02-26T16:34:42.023503140Z"
    }
   },
   "id": "1820f2f43a7e7fff",
   "execution_count": 53
  },
  {
   "cell_type": "markdown",
   "source": [
    "With this, we can compute the costs of all cuts and sort them accordingly:"
   ],
   "metadata": {
    "collapsed": false
   },
   "id": "7cbdec11e7ddb41f"
  },
  {
   "cell_type": "code",
   "outputs": [
    {
     "name": "stdout",
     "output_type": "stream",
     "text": [
      "Calculating costs of bipartitions.\n",
      "Computing costs of cuts...\n"
     ]
    },
    {
     "name": "stderr",
     "output_type": "stream",
     "text": [
      "100%|██████████| 55/55 [00:01<00:00, 30.70it/s]\n"
     ]
    }
   ],
   "source": [
    "print(\"Calculating costs of bipartitions.\")\n",
    "cost_function = getattr(cost_functions, cost_fct)\n",
    "bipartitions = utils.compute_cost_and_order_cuts(bipartitions, partial(cost_function,\n",
    "                                                                       data.xs, None))"
   ],
   "metadata": {
    "collapsed": false,
    "ExecuteTime": {
     "end_time": "2024-02-26T16:34:44.496207494Z",
     "start_time": "2024-02-26T16:34:42.659691588Z"
    }
   },
   "id": "dcac33a15138193c",
   "execution_count": 54
  },
  {
   "cell_type": "markdown",
   "source": [
    "Check for duplicate cuts and merge if necessary (this step can reduce the run time \n",
    "significantly:"
   ],
   "metadata": {
    "collapsed": false
   },
   "id": "5126253e47fe2819"
  },
  {
   "cell_type": "code",
   "outputs": [
    {
     "name": "stdout",
     "output_type": "stream",
     "text": [
      "Merging doublicate mutations.\n",
      "Number of bipartitions after merging: 55\n"
     ]
    }
   ],
   "source": [
    "print(\"Merging doublicate mutations.\")\n",
    "bipartitions = merge_doubles(bipartitions)\n",
    "print(\"Number of bipartitions after merging:\", len(bipartitions.names))"
   ],
   "metadata": {
    "collapsed": false,
    "ExecuteTime": {
     "end_time": "2024-02-26T16:34:44.499216710Z",
     "start_time": "2024-02-26T16:34:44.495466958Z"
    }
   },
   "id": "a88709adae806a53",
   "execution_count": 55
  },
  {
   "cell_type": "markdown",
   "source": [
    "### Construct tangles search tree."
   ],
   "metadata": {
    "collapsed": false
   },
   "id": "f2fa56b3ef8f8007"
  },
  {
   "cell_type": "code",
   "outputs": [
    {
     "name": "stdout",
     "output_type": "stream",
     "text": [
      "Building the tangle search tree\n",
      "Built tree has 4 leaves\n"
     ]
    }
   ],
   "source": [
    "print(\"Building the tangle search tree\", flush=True)\n",
    "tangles_tree = tangle_computation(cuts=bipartitions, agreement=agreement, verbose=0)\n",
    "print(\"Built tree has {} leaves\".format(len(tangles_tree.maximals)), flush=True)\n",
    "### uncomment if you have graphvis installed on your system\n",
    "tangles_tree.plot_tree()"
   ],
   "metadata": {
    "collapsed": false,
    "is_executing": true,
    "ExecuteTime": {
     "start_time": "2024-02-26T16:34:44.496029257Z"
    }
   },
   "id": "1beaa54bdda9a586",
   "execution_count": null
  },
  {
   "cell_type": "markdown",
   "source": [
    "Postprocess the tangles search tree by contracting paths:"
   ],
   "metadata": {
    "collapsed": false
   },
   "id": "50c3f8f906c46214"
  },
  {
   "cell_type": "code",
   "outputs": [],
   "source": [
    "# postprocess tree\n",
    "print(\"Postprocessing the tree.\", flush=True)\n",
    "# contract to binary tree\n",
    "print(\"Contracting to binary tree\", flush=True)\n",
    "contracted_tree = ContractedTangleTree(tangles_tree)\n",
    "### uncomment if you have graphvis installed on your system\n",
    "contracted_tree.plot_tree()"
   ],
   "metadata": {
    "collapsed": false,
    "is_executing": true
   },
   "id": "29afba363ff772e",
   "execution_count": null
  },
  {
   "cell_type": "markdown",
   "source": [
    "### Read out typical genome per population. "
   ],
   "metadata": {
    "collapsed": false
   },
   "id": "2d1e19161cd15ecf"
  },
  {
   "cell_type": "code",
   "outputs": [],
   "source": [
    "# identified populations (assign automatically in the future): \n",
    "id_pops = [\"EAS\", \"SAS\", \"EUR\", \"AFR\"]\n",
    "# read out typical genome per population:\n",
    "for c in range(len(tangles_tree.maximals)):\n",
    "    print(\"typical genome of population\", id_pops[c], \":\",tangles_tree.maximals[c]\n",
    "          .tangle.get_specification(), flush=True)\n",
    "print(\"0 means that the typical genome is homozygous for the ancestral\"\n",
    "      \" allele at the SNP corresponding to the SNP index, otherwise 1.\", flush=True)\n",
    "# print corresponding SNP index:\n",
    "print(\"\\nSNP index in typical genomes:\\n\", tangles_tree.maximals[0].tangle.get_cuts\n",
    "().names, flush=True)"
   ],
   "metadata": {
    "collapsed": false,
    "is_executing": true
   },
   "id": "f610d844c62d436e",
   "execution_count": null
  },
  {
   "cell_type": "markdown",
   "source": [
    "### Calculate set of characterizing cuts."
   ],
   "metadata": {
    "collapsed": false
   },
   "id": "898a9d30f802018a"
  },
  {
   "cell_type": "code",
   "outputs": [],
   "source": [
    "# calculate set of characterizing cuts:\n",
    "print(\"Calculating set of characterizing bipartitions.\", flush=True)\n",
    "contracted_tree.calculate_setP()"
   ],
   "metadata": {
    "collapsed": false,
    "is_executing": true
   },
   "id": "6eaef42301072168",
   "execution_count": null
  },
  {
   "cell_type": "code",
   "outputs": [],
   "source": [
    "# prune short paths:\n",
    "contracted_tree.prune(bipartitions, pruning)\n",
    "contracted_tree.calculate_setP()"
   ],
   "metadata": {
    "collapsed": false,
    "is_executing": true
   },
   "id": "969464074206cf29",
   "execution_count": null
  },
  {
   "cell_type": "markdown",
   "source": [
    "## Compute soft clustering."
   ],
   "metadata": {
    "collapsed": false
   },
   "id": "a712ee3be97144d2"
  },
  {
   "cell_type": "code",
   "outputs": [],
   "source": [
    "# assign weight/ importance to bipartitions. no weights used for soft clustering in population genetics:\n",
    "weight = np.ones(len(bipartitions.names))\n",
    "# calculate the soft clustering, i.e. soft predictions:\n",
    "print(\"Calculating soft predictions\", flush=True)\n",
    "compute_soft_predictions_children_popgen(node=contracted_tree.root, \n",
    "                                         cuts=bipartitions, weight=weight, \n",
    "                                         cuts_probs=reliability_factor.compute_reliability(\n",
    "                                                 xs), verbose=3)\n",
    "contracted_tree.processed_soft_prediction = True"
   ],
   "metadata": {
    "collapsed": false,
    "is_executing": true
   },
   "id": "ee5e13e22318b145",
   "execution_count": null
  },
  {
   "cell_type": "markdown",
   "source": [
    "Convert the soft clustering to be able to plot in a stacked bar plot:"
   ],
   "metadata": {
    "collapsed": false
   },
   "id": "56fbd2983725a791"
  },
  {
   "cell_type": "code",
   "outputs": [],
   "source": [
    "# get matrix with hierarchical soft clustering along the tangles tree to plot\n",
    "# this inferred ancestry. char_cuts are the characteristic SNPs per split in\n",
    "# the tangles tree, posititions indicate the position of the split in the tree.\n",
    "matrices, char_cuts, positions = contracted_tree.to_matrix()\n",
    "\n",
    "# get number of characterizing SNPs per split (necessary as bipartitions have been \n",
    "# merged):\n",
    "num_char_cuts_per_split = []\n",
    "for k in range(1, len(list(char_cuts.keys())) + 1):\n",
    "    num_char_cuts_per_split.append(np.sum(np.array( [name.count(\",\") + 1 for name in \n",
    "                                                     bipartitions.names[list(char_cuts[k].keys())]])))\n",
    "num_char_cuts = dict(zip(char_cuts.keys(), num_char_cuts_per_split))\n",
    "print(\"number of characterizing cuts per split in tangles tree:\", \n",
    "      num_char_cuts_per_split, flush=True)"
   ],
   "metadata": {
    "collapsed": false,
    "is_executing": true
   },
   "id": "5c18ce59a8370b47",
   "execution_count": null
  },
  {
   "cell_type": "markdown",
   "source": [
    "Calculate hard predictions:"
   ],
   "metadata": {
    "collapsed": false
   },
   "id": "502e654819cbbeb8"
  },
  {
   "cell_type": "code",
   "outputs": [],
   "source": [
    "print(\"Calculating hard predictions\", flush=True)\n",
    "ys_predicted, _ = utils.compute_hard_predictions(contracted_tree, cuts=bipartitions)"
   ],
   "metadata": {
    "collapsed": false,
    "is_executing": true
   },
   "id": "ebb22504950ef474",
   "execution_count": null
  },
  {
   "cell_type": "markdown",
   "source": [
    "## Plot the soft clustering."
   ],
   "metadata": {
    "collapsed": false
   },
   "id": "14c64a6aed9eb061"
  },
  {
   "cell_type": "code",
   "outputs": [],
   "source": [
    "print(\"Plotting the soft clustering, this step may take about 30 seconds.\", flush=True)\n",
    "plot_soft_clustering.plot_inferred_ancestry(matrices, pop_membership, agreement, \"readVCF\",\n",
    "                                            cost_fct=cost_fct)"
   ],
   "metadata": {
    "collapsed": false,
    "is_executing": true
   },
   "id": "1cf6360835cdfaab",
   "execution_count": null
  }
 ],
 "metadata": {
  "kernelspec": {
   "display_name": "Python 3",
   "language": "python",
   "name": "python3"
  },
  "language_info": {
   "codemirror_mode": {
    "name": "ipython",
    "version": 2
   },
   "file_extension": ".py",
   "mimetype": "text/x-python",
   "name": "python",
   "nbconvert_exporter": "python",
   "pygments_lexer": "ipython2",
   "version": "2.7.6"
  }
 },
 "nbformat": 4,
 "nbformat_minor": 5
}
